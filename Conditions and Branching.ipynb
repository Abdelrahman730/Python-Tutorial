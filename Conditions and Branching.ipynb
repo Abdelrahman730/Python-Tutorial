{
 "cells": [
  {
   "cell_type": "markdown",
   "id": "0a956eaa",
   "metadata": {},
   "source": [
    "## Conditions\n",
    "### == \"Equal\"\n",
    "### != \"Not equal\"\n",
    "### <= \"Greater than or equal\"\n",
    "### >= \"Less than or equal\"\n",
    "### < \"Greater than\"\n",
    "### > \"Less than\""
   ]
  },
  {
   "cell_type": "code",
   "execution_count": 1,
   "id": "62d577d4",
   "metadata": {},
   "outputs": [
    {
     "data": {
      "text/plain": [
       "False"
      ]
     },
     "execution_count": 1,
     "metadata": {},
     "output_type": "execute_result"
    }
   ],
   "source": [
    "1 == 2"
   ]
  },
  {
   "cell_type": "code",
   "execution_count": 2,
   "id": "0b008832",
   "metadata": {},
   "outputs": [
    {
     "data": {
      "text/plain": [
       "True"
      ]
     },
     "execution_count": 2,
     "metadata": {},
     "output_type": "execute_result"
    }
   ],
   "source": [
    "1 < 2"
   ]
  },
  {
   "cell_type": "code",
   "execution_count": 3,
   "id": "d60309ab",
   "metadata": {},
   "outputs": [
    {
     "data": {
      "text/plain": [
       "False"
      ]
     },
     "execution_count": 3,
     "metadata": {},
     "output_type": "execute_result"
    }
   ],
   "source": [
    "2 < 2"
   ]
  },
  {
   "cell_type": "code",
   "execution_count": 4,
   "id": "230aa8ed",
   "metadata": {},
   "outputs": [
    {
     "data": {
      "text/plain": [
       "True"
      ]
     },
     "execution_count": 4,
     "metadata": {},
     "output_type": "execute_result"
    }
   ],
   "source": [
    "2 <= 2"
   ]
  },
  {
   "cell_type": "markdown",
   "id": "0fbfceab",
   "metadata": {},
   "source": [
    "## Branching"
   ]
  },
  {
   "cell_type": "code",
   "execution_count": 6,
   "id": "5b5bd76a",
   "metadata": {},
   "outputs": [],
   "source": [
    "if (2 != 2):\n",
    "    print(\"Hello\")"
   ]
  },
  {
   "cell_type": "code",
   "execution_count": 7,
   "id": "36b8e9e1",
   "metadata": {},
   "outputs": [
    {
     "name": "stdout",
     "output_type": "stream",
     "text": [
      "Hello\n"
     ]
    }
   ],
   "source": [
    "if (2 == 2):\n",
    "    print(\"Hello\")"
   ]
  },
  {
   "cell_type": "code",
   "execution_count": 9,
   "id": "e868ba36",
   "metadata": {},
   "outputs": [
    {
     "name": "stdout",
     "output_type": "stream",
     "text": [
      "World\n"
     ]
    }
   ],
   "source": [
    "if (\"Hi\" != \"Hi\"):\n",
    "    print(\"Hello\")\n",
    "print(\"World\")"
   ]
  },
  {
   "cell_type": "code",
   "execution_count": 10,
   "id": "1adf7c50",
   "metadata": {},
   "outputs": [
    {
     "name": "stdout",
     "output_type": "stream",
     "text": [
      "Bye\n"
     ]
    }
   ],
   "source": [
    "if (1 > 2):\n",
    "    print(\"Hi\")\n",
    "else:\n",
    "    print(\"Bye\")"
   ]
  },
  {
   "cell_type": "code",
   "execution_count": 12,
   "id": "24dd9382",
   "metadata": {},
   "outputs": [
    {
     "name": "stdout",
     "output_type": "stream",
     "text": [
      "Big\n"
     ]
    }
   ],
   "source": [
    "if (0):\n",
    "    print(\"Hi\")\n",
    "    \n",
    "print(\"Big\")"
   ]
  },
  {
   "cell_type": "code",
   "execution_count": 15,
   "id": "d2d2d9bb",
   "metadata": {},
   "outputs": [
    {
     "name": "stdout",
     "output_type": "stream",
     "text": [
      "1\n",
      "True\n"
     ]
    }
   ],
   "source": [
    "if (1):\n",
    "    print(\"1\")\n",
    "if (True):\n",
    "    print(\"True\")\n",
    "if ([]):\n",
    "    print(\"List\")\n",
    "if ({}):\n",
    "    print(\"Dic\")\n",
    "if (0):\n",
    "    print(\"0\")\n",
    "if (None):\n",
    "    print(\"None\")"
   ]
  },
  {
   "cell_type": "code",
   "execution_count": 16,
   "id": "3afa15a2",
   "metadata": {},
   "outputs": [
    {
     "name": "stdout",
     "output_type": "stream",
     "text": [
      "1 < 2\n"
     ]
    }
   ],
   "source": [
    "if (1 < 2):\n",
    "    print(\"1 > 2\")\n",
    "elif (1 < 2):\n",
    "    print(\"1 < 2\")\n",
    "else:\n",
    "    print(\"Hi\")"
   ]
  },
  {
   "cell_type": "code",
   "execution_count": 17,
   "id": "55b5164b",
   "metadata": {},
   "outputs": [],
   "source": [
    "# or and not "
   ]
  },
  {
   "cell_type": "code",
   "execution_count": 18,
   "id": "cf050819",
   "metadata": {},
   "outputs": [
    {
     "name": "stdout",
     "output_type": "stream",
     "text": [
      "True or False\n",
      "False or True\n",
      "True or True\n"
     ]
    }
   ],
   "source": [
    "if (False or False):\n",
    "    print(\"False or False\")\n",
    "\n",
    "if (True or False):\n",
    "    print(\"True or False\")\n",
    "\n",
    "if (False or True):\n",
    "    print(\"False or True\")\n",
    "\n",
    "if (True or True):\n",
    "    print(\"True or True\")"
   ]
  },
  {
   "cell_type": "code",
   "execution_count": 19,
   "id": "bc9ab5c1",
   "metadata": {},
   "outputs": [
    {
     "name": "stdout",
     "output_type": "stream",
     "text": [
      "True or True\n"
     ]
    }
   ],
   "source": [
    "if (False and False):\n",
    "    print(\"False or False\")\n",
    "\n",
    "if (True and False):\n",
    "    print(\"True or False\")\n",
    "\n",
    "if (False and True):\n",
    "    print(\"False or True\")\n",
    "\n",
    "if (True and True):\n",
    "    print(\"True or True\")"
   ]
  },
  {
   "cell_type": "code",
   "execution_count": 20,
   "id": "ba9e3964",
   "metadata": {},
   "outputs": [
    {
     "name": "stdout",
     "output_type": "stream",
     "text": [
      "Not 0\n"
     ]
    }
   ],
   "source": [
    "if (not 0):\n",
    "    print(\"Not 0\")"
   ]
  },
  {
   "cell_type": "code",
   "execution_count": 21,
   "id": "6990450b",
   "metadata": {},
   "outputs": [],
   "source": [
    "if (not 1):\n",
    "    print(\"Not 1\")"
   ]
  },
  {
   "cell_type": "code",
   "execution_count": null,
   "id": "a59e81ce",
   "metadata": {},
   "outputs": [],
   "source": []
  }
 ],
 "metadata": {
  "kernelspec": {
   "display_name": "Python 3 (ipykernel)",
   "language": "python",
   "name": "python3"
  },
  "language_info": {
   "codemirror_mode": {
    "name": "ipython",
    "version": 3
   },
   "file_extension": ".py",
   "mimetype": "text/x-python",
   "name": "python",
   "nbconvert_exporter": "python",
   "pygments_lexer": "ipython3",
   "version": "3.9.0"
  }
 },
 "nbformat": 4,
 "nbformat_minor": 5
}
