{
 "cells": [
  {
   "cell_type": "code",
   "execution_count": 25,
   "id": "59468b8c",
   "metadata": {},
   "outputs": [],
   "source": [
    "File = open(\"example.txt\",'r') # Modes: W , A"
   ]
  },
  {
   "cell_type": "code",
   "execution_count": 17,
   "id": "56fefcfa",
   "metadata": {},
   "outputs": [
    {
     "data": {
      "text/plain": [
       "'example.txt'"
      ]
     },
     "execution_count": 17,
     "metadata": {},
     "output_type": "execute_result"
    }
   ],
   "source": [
    "File.name"
   ]
  },
  {
   "cell_type": "code",
   "execution_count": 18,
   "id": "4729af8d",
   "metadata": {},
   "outputs": [
    {
     "data": {
      "text/plain": [
       "'r'"
      ]
     },
     "execution_count": 18,
     "metadata": {},
     "output_type": "execute_result"
    }
   ],
   "source": [
    "File.mode"
   ]
  },
  {
   "cell_type": "code",
   "execution_count": 26,
   "id": "52e9ad91",
   "metadata": {},
   "outputs": [
    {
     "data": {
      "text/plain": [
       "'Hello world\\nbig\\nsalam bye'"
      ]
     },
     "execution_count": 26,
     "metadata": {},
     "output_type": "execute_result"
    }
   ],
   "source": [
    "File.read()"
   ]
  },
  {
   "cell_type": "code",
   "execution_count": 24,
   "id": "d28b7d20",
   "metadata": {},
   "outputs": [
    {
     "data": {
      "text/plain": [
       "['Hello world\\n', 'big\\n', 'salam bye']"
      ]
     },
     "execution_count": 24,
     "metadata": {},
     "output_type": "execute_result"
    }
   ],
   "source": [
    "File.readlines()"
   ]
  },
  {
   "cell_type": "code",
   "execution_count": 22,
   "id": "721799f1",
   "metadata": {},
   "outputs": [],
   "source": [
    "File.close()"
   ]
  }
 ],
 "metadata": {
  "kernelspec": {
   "display_name": "Python 3 (ipykernel)",
   "language": "python",
   "name": "python3"
  },
  "language_info": {
   "codemirror_mode": {
    "name": "ipython",
    "version": 3
   },
   "file_extension": ".py",
   "mimetype": "text/x-python",
   "name": "python",
   "nbconvert_exporter": "python",
   "pygments_lexer": "ipython3",
   "version": "3.9.0"
  }
 },
 "nbformat": 4,
 "nbformat_minor": 5
}
