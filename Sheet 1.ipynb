{
 "cells": [
  {
   "cell_type": "markdown",
   "id": "19a29dfb",
   "metadata": {},
   "source": [
    "## 1- Variables"
   ]
  },
  {
   "cell_type": "markdown",
   "id": "54d5cff1",
   "metadata": {},
   "source": [
    "**1)** Write a Python code that takes a user's input and stores it in a variable, then prints the value of the variable."
   ]
  },
  {
   "cell_type": "code",
   "execution_count": 1,
   "id": "6b12151e",
   "metadata": {},
   "outputs": [],
   "source": [
    "# Write your code here"
   ]
  },
  {
   "cell_type": "markdown",
   "id": "593cc994",
   "metadata": {},
   "source": [
    "**2)** Write a Python code that takes two numbers as input from a user, adds them, and then prints the result."
   ]
  },
  {
   "cell_type": "code",
   "execution_count": 2,
   "id": "524bf082",
   "metadata": {},
   "outputs": [],
   "source": [
    "# Write your code here"
   ]
  },
  {
   "cell_type": "markdown",
   "id": "78f9ed51",
   "metadata": {},
   "source": [
    "## 2- String operations"
   ]
  },
  {
   "cell_type": "markdown",
   "id": "e03f6f5b",
   "metadata": {},
   "source": [
    "**3)** Write a Python code that takes a user's input string, stores it in a variable, and then prints the length of the input string."
   ]
  },
  {
   "cell_type": "code",
   "execution_count": 3,
   "id": "5411311c",
   "metadata": {},
   "outputs": [],
   "source": [
    "# Write your code here"
   ]
  },
  {
   "cell_type": "markdown",
   "id": "3627061b",
   "metadata": {},
   "source": [
    "**4)** Write a Python code that takes a user's input string, checks if it has the word \"Hello\" and print the start index of the word."
   ]
  },
  {
   "cell_type": "code",
   "execution_count": 4,
   "id": "9cd743c2",
   "metadata": {},
   "outputs": [],
   "source": [
    "# Write your code here"
   ]
  },
  {
   "cell_type": "markdown",
   "id": "320b4e8c",
   "metadata": {},
   "source": [
    "## 3- List and tubles"
   ]
  },
  {
   "cell_type": "markdown",
   "id": "f90a4f32",
   "metadata": {},
   "source": [
    "**5)** Write a Python code that takes a list of numbers as input from the user, calculates the sum of all numbers in the list, and then prints the result."
   ]
  },
  {
   "cell_type": "code",
   "execution_count": 5,
   "id": "28d14b95",
   "metadata": {},
   "outputs": [],
   "source": [
    "# Write your code here"
   ]
  },
  {
   "cell_type": "markdown",
   "id": "52f1fbdc",
   "metadata": {},
   "source": [
    "**6)** Write a Python code that takes a list of strings as input from the user, prints the total number of elements in the list."
   ]
  },
  {
   "cell_type": "code",
   "execution_count": 6,
   "id": "a36f28c9",
   "metadata": {},
   "outputs": [],
   "source": [
    "# Write your code here"
   ]
  },
  {
   "cell_type": "markdown",
   "id": "05b67909",
   "metadata": {},
   "source": [
    "## 4- Dictionaries"
   ]
  },
  {
   "cell_type": "code",
   "execution_count": 7,
   "id": "bc529852",
   "metadata": {},
   "outputs": [],
   "source": [
    "countries = {\n",
    "    \"Egypt\" : 1000,\n",
    "    \"UAE\" : 2000,\n",
    "    \"UK\" : 5000,\n",
    "    \"USA\" : 1500,\n",
    "    \"KSA\" : 3000\n",
    "}"
   ]
  },
  {
   "cell_type": "markdown",
   "id": "da3ef478",
   "metadata": {},
   "source": [
    "**7)** Write a Python code that use the given dictionary, and then prints the sum of all the values in the dictionary."
   ]
  },
  {
   "cell_type": "code",
   "execution_count": 8,
   "id": "21b3acb0",
   "metadata": {},
   "outputs": [],
   "source": [
    "# Write your code here"
   ]
  },
  {
   "cell_type": "markdown",
   "id": "c68baef2",
   "metadata": {},
   "source": [
    "**8)** Write a Python code that use the given dictionary, and then prints the average of all the values in the dictionary."
   ]
  },
  {
   "cell_type": "code",
   "execution_count": 9,
   "id": "1d3b3d59",
   "metadata": {},
   "outputs": [],
   "source": [
    "# Write your code here"
   ]
  },
  {
   "cell_type": "markdown",
   "id": "fabfa358",
   "metadata": {},
   "source": [
    "## 5- Sets"
   ]
  },
  {
   "cell_type": "markdown",
   "id": "b8163351",
   "metadata": {},
   "source": [
    "**9)** Write a Python code that takes two sets as input from the user, performs the union operation on the sets, and then prints the result."
   ]
  },
  {
   "cell_type": "code",
   "execution_count": 10,
   "id": "0050a9cf",
   "metadata": {},
   "outputs": [],
   "source": [
    "# Write your code here"
   ]
  },
  {
   "cell_type": "markdown",
   "id": "4e6311a9",
   "metadata": {},
   "source": [
    "**10)** Write a Python code that takes two sets as input from the user, performs the intersection operation on the sets, and then prints the result."
   ]
  },
  {
   "cell_type": "code",
   "execution_count": 11,
   "id": "b686527e",
   "metadata": {},
   "outputs": [],
   "source": [
    "# Write your code here"
   ]
  },
  {
   "cell_type": "markdown",
   "id": "e4dcf6e4",
   "metadata": {},
   "source": [
    "## 6- Conditions and Branching "
   ]
  },
  {
   "cell_type": "markdown",
   "id": "9d48b569",
   "metadata": {},
   "source": [
    "**11)** Write a Python code that takes an input number from the user, and using an if-else statement, prints \"Positive\" if the number is greater than zero, \"Negative\" if the number is less than zero."
   ]
  },
  {
   "cell_type": "code",
   "execution_count": 12,
   "id": "f4162d28",
   "metadata": {},
   "outputs": [],
   "source": [
    "# Write your code here"
   ]
  },
  {
   "cell_type": "markdown",
   "id": "dbf1987b",
   "metadata": {},
   "source": [
    "**12)** Write a Python code that takes an input number from the user and using an if-elif-else statement, prints \"Positive\" if the number is greater than zero, \"Negative\" if the number is less than zero, and \"Zero\" if the number is equal to zero."
   ]
  },
  {
   "cell_type": "code",
   "execution_count": 13,
   "id": "2b20d2bb",
   "metadata": {},
   "outputs": [],
   "source": [
    "# Write your code here"
   ]
  },
  {
   "cell_type": "markdown",
   "id": "ef902e43",
   "metadata": {},
   "source": [
    "## 7- Loops"
   ]
  },
  {
   "cell_type": "markdown",
   "id": "d3524054",
   "metadata": {},
   "source": [
    "**13)** Write a Python code that takes a positive integer input from the user, and using a for loop, prints the multiplication table of that number."
   ]
  },
  {
   "cell_type": "code",
   "execution_count": 14,
   "id": "5ba43ef6",
   "metadata": {},
   "outputs": [],
   "source": [
    "# Write your code here"
   ]
  },
  {
   "cell_type": "markdown",
   "id": "66a5fcfc",
   "metadata": {},
   "source": [
    "**14)** Write a Python code that takes a positive integer input from the user, and using a while loop, calculates the factorial of that number and prints the result."
   ]
  },
  {
   "cell_type": "code",
   "execution_count": 15,
   "id": "79be46a5",
   "metadata": {},
   "outputs": [],
   "source": [
    "# Write your code here"
   ]
  },
  {
   "cell_type": "markdown",
   "id": "a9723378",
   "metadata": {},
   "source": [
    "## Functions"
   ]
  },
  {
   "cell_type": "markdown",
   "id": "d09f74fd",
   "metadata": {},
   "source": [
    "**15)** Write a Python function that takes a string as input, reverses the string and returns the reversed string. Test the function with a sample input and print the output. ***hint:* [::-1]**"
   ]
  },
  {
   "cell_type": "code",
   "execution_count": 16,
   "id": "3df76b87",
   "metadata": {},
   "outputs": [],
   "source": [
    "# Write your code here"
   ]
  },
  {
   "cell_type": "markdown",
   "id": "45e6b6d9",
   "metadata": {},
   "source": [
    "**16)** Write a Python function that takes two numbers as input and returns the sum of the numbers. Test the function with sample inputs and print the output."
   ]
  },
  {
   "cell_type": "code",
   "execution_count": 17,
   "id": "1764b28d",
   "metadata": {},
   "outputs": [],
   "source": [
    "# Write your code here"
   ]
  }
 ],
 "metadata": {
  "kernelspec": {
   "display_name": "Python 3 (ipykernel)",
   "language": "python",
   "name": "python3"
  },
  "language_info": {
   "codemirror_mode": {
    "name": "ipython",
    "version": 3
   },
   "file_extension": ".py",
   "mimetype": "text/x-python",
   "name": "python",
   "nbconvert_exporter": "python",
   "pygments_lexer": "ipython3",
   "version": "3.9.0"
  }
 },
 "nbformat": 4,
 "nbformat_minor": 5
}
