{
 "cells": [
  {
   "cell_type": "code",
   "execution_count": 6,
   "id": "32951a8f",
   "metadata": {},
   "outputs": [],
   "source": [
    "File = open(\"test.txt\",'w')"
   ]
  },
  {
   "cell_type": "code",
   "execution_count": 7,
   "id": "eae79679",
   "metadata": {},
   "outputs": [
    {
     "data": {
      "text/plain": [
       "11"
      ]
     },
     "execution_count": 7,
     "metadata": {},
     "output_type": "execute_result"
    }
   ],
   "source": [
    "File.write(\"Hello World\")"
   ]
  },
  {
   "cell_type": "code",
   "execution_count": 8,
   "id": "3ed4efc7",
   "metadata": {},
   "outputs": [],
   "source": [
    "File.close()"
   ]
  },
  {
   "cell_type": "code",
   "execution_count": 9,
   "id": "0b31deb1",
   "metadata": {},
   "outputs": [],
   "source": [
    "File = open(\"test.txt\",'w')\n",
    "File.write(\"Big\")\n",
    "File.close()"
   ]
  },
  {
   "cell_type": "code",
   "execution_count": 10,
   "id": "97dd63d3",
   "metadata": {},
   "outputs": [],
   "source": [
    "File = open(\"test.txt\",'a')\n",
    "File.write(\"\\nHello World\")\n",
    "File.close()"
   ]
  },
  {
   "cell_type": "code",
   "execution_count": null,
   "id": "7867ef25",
   "metadata": {},
   "outputs": [],
   "source": []
  }
 ],
 "metadata": {
  "kernelspec": {
   "display_name": "Python 3 (ipykernel)",
   "language": "python",
   "name": "python3"
  },
  "language_info": {
   "codemirror_mode": {
    "name": "ipython",
    "version": 3
   },
   "file_extension": ".py",
   "mimetype": "text/x-python",
   "name": "python",
   "nbconvert_exporter": "python",
   "pygments_lexer": "ipython3",
   "version": "3.9.0"
  }
 },
 "nbformat": 4,
 "nbformat_minor": 5
}
