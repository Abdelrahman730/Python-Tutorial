{
 "cells": [
  {
   "cell_type": "markdown",
   "id": "835fe8af",
   "metadata": {},
   "source": [
    "## Functions"
   ]
  },
  {
   "cell_type": "code",
   "execution_count": 10,
   "id": "3fa237fc",
   "metadata": {},
   "outputs": [
    {
     "name": "stdout",
     "output_type": "stream",
     "text": [
      "230\n"
     ]
    }
   ],
   "source": [
    "x = 10\n",
    "y = 20 * x\n",
    "z = 30 + y\n",
    "print(z)"
   ]
  },
  {
   "cell_type": "code",
   "execution_count": 4,
   "id": "ebb2112a",
   "metadata": {},
   "outputs": [
    {
     "name": "stdout",
     "output_type": "stream",
     "text": [
      "Hello World\n"
     ]
    }
   ],
   "source": [
    "def HelloWorld():\n",
    "    print(\"Hello World\")\n",
    "\n",
    "HelloWorld()"
   ]
  },
  {
   "cell_type": "code",
   "execution_count": 6,
   "id": "a685324a",
   "metadata": {},
   "outputs": [
    {
     "name": "stdout",
     "output_type": "stream",
     "text": [
      "15\n"
     ]
    }
   ],
   "source": [
    "def sumTwoNumber(x , y):\n",
    "    print(x+y)\n",
    "\n",
    "sumTwoNumber(10,5)"
   ]
  },
  {
   "cell_type": "code",
   "execution_count": 7,
   "id": "cdaa536b",
   "metadata": {},
   "outputs": [
    {
     "name": "stdout",
     "output_type": "stream",
     "text": [
      "Hello World\n"
     ]
    }
   ],
   "source": [
    "def HelloWorld():\n",
    "    return \"Hello World\"\n",
    "\n",
    "print(HelloWorld())"
   ]
  },
  {
   "cell_type": "code",
   "execution_count": 9,
   "id": "92308ac1",
   "metadata": {},
   "outputs": [
    {
     "name": "stdout",
     "output_type": "stream",
     "text": [
      "15\n",
      "20\n",
      "40\n"
     ]
    }
   ],
   "source": [
    "def sumTwoNumber(x=5 , y = 10):\n",
    "    return x + y\n",
    "\n",
    "print(sumTwoNumber())\n",
    "print(sumTwoNumber(10))\n",
    "print(sumTwoNumber(20,20))"
   ]
  },
  {
   "cell_type": "markdown",
   "id": "70338b81",
   "metadata": {},
   "source": [
    "## Input"
   ]
  },
  {
   "cell_type": "code",
   "execution_count": 14,
   "id": "5b106fee",
   "metadata": {},
   "outputs": [
    {
     "name": "stdout",
     "output_type": "stream",
     "text": [
      "Enter Text:10\n",
      "10 <class 'int'>\n"
     ]
    }
   ],
   "source": [
    "x = int(input('Enter Text:'))\n",
    "print(x,type(x))"
   ]
  },
  {
   "cell_type": "code",
   "execution_count": 15,
   "id": "cb7a79dc",
   "metadata": {},
   "outputs": [
    {
     "name": "stdout",
     "output_type": "stream",
     "text": [
      "Enter Number: 50\n",
      "Enter Number: 40\n",
      "Enter Number: 30\n",
      "Enter Number: 20\n",
      "Enter Number: 10\n",
      "[50, 40, 30, 20, 10]\n"
     ]
    }
   ],
   "source": [
    "ListOfNum = [int(input(\"Enter Number: \")) for i in range(5)]\n",
    "print(ListOfNum)"
   ]
  },
  {
   "cell_type": "code",
   "execution_count": null,
   "id": "b570d876",
   "metadata": {},
   "outputs": [],
   "source": []
  }
 ],
 "metadata": {
  "kernelspec": {
   "display_name": "Python 3 (ipykernel)",
   "language": "python",
   "name": "python3"
  },
  "language_info": {
   "codemirror_mode": {
    "name": "ipython",
    "version": 3
   },
   "file_extension": ".py",
   "mimetype": "text/x-python",
   "name": "python",
   "nbconvert_exporter": "python",
   "pygments_lexer": "ipython3",
   "version": "3.9.0"
  }
 },
 "nbformat": 4,
 "nbformat_minor": 5
}
